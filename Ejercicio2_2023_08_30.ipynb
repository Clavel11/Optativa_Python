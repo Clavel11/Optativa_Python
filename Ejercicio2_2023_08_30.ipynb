{
  "nbformat": 4,
  "nbformat_minor": 0,
  "metadata": {
    "colab": {
      "provenance": [],
      "authorship_tag": "ABX9TyN23o6GNGDpMt7jEi8mH2ks"
    },
    "kernelspec": {
      "name": "python3",
      "display_name": "Python 3"
    },
    "language_info": {
      "name": "python"
    }
  },
  "cells": [
    {
      "cell_type": "markdown",
      "source": [
        "Define una clase que llame `Perro`, que tenga un atributo `nombre` y un método `sonido` (sin argumentos). Cuando se corra el método `sonido` en una instancia de la clase `Perro`, se debe regresar la cadena `\"Guau\"`. Hacer una clase `Gato` análoga."
      ],
      "metadata": {
        "id": "5qeBOiNkXLoy"
      }
    },
    {
      "cell_type": "code",
      "execution_count": null,
      "metadata": {
        "colab": {
          "base_uri": "https://localhost:8080/"
        },
        "id": "_wx89h3dXIvx",
        "outputId": "bb54adfd-a966-4cba-8464-85393b318695"
      },
      "outputs": [
        {
          "output_type": "execute_result",
          "data": {
            "text/plain": [
              "('Solecito', 'french poodle', 'Guau')"
            ]
          },
          "metadata": {},
          "execution_count": 38
        }
      ],
      "source": [
        "class Perro:\n",
        "    def __init__(self, nombre, raza):\n",
        "        self.nombre = nombre\n",
        "        self.raza = raza\n",
        "\n",
        "    def sonido(self):\n",
        "        return \"Guau\"\n",
        "\n",
        "    def __repr__(self):\n",
        "        return f'Es un perro llamado {self.nombre} que hace {self.sonido()} y cuya raza es {self.raza}'\n",
        "\n",
        "perro1 = Perro(\"Solecito\", \"french poodle\")\n",
        "perro1.nombre, perro1.raza, perro1.sonido()"
      ]
    },
    {
      "cell_type": "code",
      "source": [
        "perro1"
      ],
      "metadata": {
        "colab": {
          "base_uri": "https://localhost:8080/"
        },
        "id": "HM2SWzdeaJKy",
        "outputId": "6f89d8ca-f87c-4d0a-cce2-e65327cc31d5"
      },
      "execution_count": null,
      "outputs": [
        {
          "output_type": "execute_result",
          "data": {
            "text/plain": [
              "Es un perro llamado Solecito que hace Guau y cuya raza es French poodle"
            ]
          },
          "metadata": {},
          "execution_count": 36
        }
      ]
    },
    {
      "cell_type": "code",
      "source": [
        "perro2 = Perro(\"Billy\", \"chihuahua\")\n",
        "perro2.nombre, perro2.raza, perro2.sonido()"
      ],
      "metadata": {
        "colab": {
          "base_uri": "https://localhost:8080/"
        },
        "id": "yxGm9sBgaRej",
        "outputId": "cbc239f7-2a59-4823-a2bc-2be2f330a47c"
      },
      "execution_count": null,
      "outputs": [
        {
          "output_type": "execute_result",
          "data": {
            "text/plain": [
              "('Billy', 'chihuahua', 'Guau')"
            ]
          },
          "metadata": {},
          "execution_count": 41
        }
      ]
    },
    {
      "cell_type": "code",
      "source": [
        "class Gato:\n",
        "    def __init__(self, nombre, raza):\n",
        "        self.nombre = nombre\n",
        "        self.raza = raza\n",
        "\n",
        "    def sonido(self):\n",
        "        return \"Miau\"\n",
        "\n",
        "gato1 = Gato(\"Mauricio\", \"Gato\")\n",
        "gato1.nombre, gato1.raza, gato1.sonido()"
      ],
      "metadata": {
        "colab": {
          "base_uri": "https://localhost:8080/"
        },
        "id": "-fDLzmWpaXUS",
        "outputId": "62aa427c-dcea-423f-e48d-22980876e3bd"
      },
      "execution_count": null,
      "outputs": [
        {
          "output_type": "execute_result",
          "data": {
            "text/plain": [
              "('Mauricio', 'Gato', 'Miau')"
            ]
          },
          "metadata": {},
          "execution_count": 42
        }
      ]
    },
    {
      "cell_type": "markdown",
      "source": [
        "Si queremos ver la clase al que pertenece el objeto podemos hacerlo de dos formas"
      ],
      "metadata": {
        "id": "r_ZRlgR2fCgr"
      }
    },
    {
      "cell_type": "code",
      "source": [
        "def tipo(animal):\n",
        "    if type(animal) == Perro:\n",
        "        return f'Este animal es un perro'\n",
        "\n",
        "    if type(animal) == Gato:\n",
        "        return f'Este animal es un gato'\n",
        "\n",
        "tipo(perro2)"
      ],
      "metadata": {
        "colab": {
          "base_uri": "https://localhost:8080/",
          "height": 35
        },
        "id": "Rwo91Eyrb5TL",
        "outputId": "2f98a236-b972-4796-ee08-8a083fd0cd46"
      },
      "execution_count": null,
      "outputs": [
        {
          "output_type": "execute_result",
          "data": {
            "text/plain": [
              "'Este animal es un perro'"
            ],
            "application/vnd.google.colaboratory.intrinsic+json": {
              "type": "string"
            }
          },
          "metadata": {},
          "execution_count": 47
        }
      ]
    },
    {
      "cell_type": "code",
      "source": [
        "tipo(gato1)"
      ],
      "metadata": {
        "colab": {
          "base_uri": "https://localhost:8080/",
          "height": 35
        },
        "id": "_SdTQ78pfrui",
        "outputId": "e62d7000-2cd3-4cbf-aade-61a70527ca40"
      },
      "execution_count": null,
      "outputs": [
        {
          "output_type": "execute_result",
          "data": {
            "text/plain": [
              "'Este animal es un gato'"
            ],
            "application/vnd.google.colaboratory.intrinsic+json": {
              "type": "string"
            }
          },
          "metadata": {},
          "execution_count": 43
        }
      ]
    },
    {
      "cell_type": "markdown",
      "source": [
        "Segunda forma:"
      ],
      "metadata": {
        "id": "EI0Pcbq6fSIz"
      }
    },
    {
      "cell_type": "code",
      "source": [
        "type(perro1)"
      ],
      "metadata": {
        "colab": {
          "base_uri": "https://localhost:8080/"
        },
        "id": "U_jJXW9leuw8",
        "outputId": "33d3044d-2fe5-4cc7-ffe3-ba5f31873d95"
      },
      "execution_count": null,
      "outputs": [
        {
          "output_type": "execute_result",
          "data": {
            "text/plain": [
              "__main__.Perro"
            ]
          },
          "metadata": {},
          "execution_count": 39
        }
      ]
    },
    {
      "cell_type": "code",
      "source": [
        "\"Perro\" in str(type(perro1))"
      ],
      "metadata": {
        "colab": {
          "base_uri": "https://localhost:8080/"
        },
        "id": "7KMe2mYEe06L",
        "outputId": "82a95690-349e-4d49-f381-5a79e81f4b58"
      },
      "execution_count": null,
      "outputs": [
        {
          "output_type": "execute_result",
          "data": {
            "text/plain": [
              "True"
            ]
          },
          "metadata": {},
          "execution_count": 40
        }
      ]
    }
  ]
}