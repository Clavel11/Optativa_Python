{
  "nbformat": 4,
  "nbformat_minor": 0,
  "metadata": {
    "colab": {
      "provenance": [],
      "authorship_tag": "ABX9TyMfF7qoyNIiOMmuZw11TnmJ"
    },
    "kernelspec": {
      "name": "python3",
      "display_name": "Python 3"
    },
    "language_info": {
      "name": "python"
    }
  },
  "cells": [
    {
      "cell_type": "markdown",
      "source": [
        "#Tarea\n",
        "Definir la resta `(__sub__)` y la multiplicación `(__mul__)` de dos números, usando los operadores `-` y `*`."
      ],
      "metadata": {
        "id": "589r6Hy9zpok"
      }
    },
    {
      "cell_type": "code",
      "execution_count": 16,
      "metadata": {
        "id": "XH6MTRoazZJX"
      },
      "outputs": [],
      "source": [
        "from sympy import sqrt\n",
        "\n",
        "class Complejo:\n",
        "    def __init__(self, parte_real, parte_imaginaria):\n",
        "        self.r = parte_real\n",
        "        self.i = parte_imaginaria\n",
        "\n",
        "    def __repr__(self):\n",
        "        \"\"\"Regresa la representación legible del objeto de la clase\"\"\"\n",
        "        return f\"Complejo({self.r}, {self.i})\"\n",
        "\n",
        "    def __add__(self, other):\n",
        "        \"\"\"Suma dos números complejos\"\"\"\n",
        "        return Complejo(self.r + other.r, self.i + other.i)\n",
        "\n",
        "    def __sub__(self, other):\n",
        "        \"\"\"Resta dos números complejos\"\"\"\n",
        "        return Complejo(self.r - other.r, self.i - other.i)\n",
        "\n",
        "    def __mul__(self, other):\n",
        "        \"\"\"Producto de dos números complejos\"\"\"\n",
        "        return Complejo(self.r * other.r - self.i * other.i,\n",
        "                        self.r * other.i + self.i * other.r)\n",
        "\n",
        "    def módulo(self):\n",
        "        \"\"\"Calcula el  módulo de un número complejo\"\"\"\n",
        "        return sqrt(self.r**2 + self.i**2)\n",
        "\n"
      ]
    },
    {
      "cell_type": "code",
      "source": [
        "z = Complejo(1, -1)\n",
        "w = Complejo(2, -3)\n",
        "z+w, z-w, z*w, z.módulo()"
      ],
      "metadata": {
        "colab": {
          "base_uri": "https://localhost:8080/"
        },
        "id": "NoCZxFiS0hkF",
        "outputId": "bc3e846a-8565-40be-d90c-6d7a1f145b19"
      },
      "execution_count": 15,
      "outputs": [
        {
          "output_type": "execute_result",
          "data": {
            "text/plain": [
              "(Complejo(3, -4), Complejo(-1, 2), Complejo(-1, -5), sqrt(2))"
            ]
          },
          "metadata": {},
          "execution_count": 15
        }
      ]
    }
  ]
}