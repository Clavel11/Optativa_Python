{
  "nbformat": 4,
  "nbformat_minor": 0,
  "metadata": {
    "colab": {
      "provenance": [],
      "authorship_tag": "ABX9TyNf0+KCDy3za7ANZMYcuseN"
    },
    "kernelspec": {
      "name": "python3",
      "display_name": "Python 3"
    },
    "language_info": {
      "name": "python"
    }
  },
  "cells": [
    {
      "cell_type": "markdown",
      "source": [
        "¿Qué números de Fibonacci menores que 10²⁰ son cuadrados?\n"
      ],
      "metadata": {
        "id": "tJfjDQz_CRCp"
      }
    },
    {
      "cell_type": "code",
      "source": [
        "from sympy import sqrt\n",
        "\n",
        "def es_potencia(n, pot = 2):\n",
        "    return int(pow(n,1/pot)) ** pot == n\n",
        "\n",
        "def potencias_fibonacci(n, pot = 2):\n",
        "    fibs = []\n",
        "    a, b = 0, 1\n",
        "    while a < n:\n",
        "        if es_potencia(a,pot):\n",
        "            fibs.append(a)\n",
        "        a, b = b, a+b\n",
        "    return fibs\n",
        "\n",
        "potencias_fibonacci(10**20)"
      ],
      "metadata": {
        "colab": {
          "base_uri": "https://localhost:8080/"
        },
        "id": "EJgxaNA9azYj",
        "outputId": "1e2aa61a-f7cc-4564-dff0-fe2988e6d0b9"
      },
      "execution_count": 3,
      "outputs": [
        {
          "output_type": "execute_result",
          "data": {
            "text/plain": [
              "[0, 1, 1, 144]"
            ]
          },
          "metadata": {},
          "execution_count": 3
        }
      ]
    },
    {
      "cell_type": "markdown",
      "source": [
        "\n",
        "¿Qué números de Fibonacci menores que 10²⁰ son cubos?"
      ],
      "metadata": {
        "id": "AXb5z9pYIrGL"
      }
    },
    {
      "cell_type": "code",
      "source": [
        "potencias_fibonacci(10**20, pot = 3)"
      ],
      "metadata": {
        "colab": {
          "base_uri": "https://localhost:8080/"
        },
        "id": "492vBNXhIqb4",
        "outputId": "df635ff5-5c4a-4e77-c4fd-720704140fad"
      },
      "execution_count": 4,
      "outputs": [
        {
          "output_type": "execute_result",
          "data": {
            "text/plain": [
              "[0, 1, 1, 8]"
            ]
          },
          "metadata": {},
          "execution_count": 4
        }
      ]
    },
    {
      "cell_type": "markdown",
      "source": [
        "¿Qué números de Fibonacci menores que 10²⁰ son cuartas potencias?"
      ],
      "metadata": {
        "id": "6OXLqVAFIvwI"
      }
    },
    {
      "cell_type": "code",
      "source": [
        "potencias_fibonacci(10**20, pot = 4)"
      ],
      "metadata": {
        "colab": {
          "base_uri": "https://localhost:8080/"
        },
        "id": "M-Xlu8JaI5oA",
        "outputId": "87360a71-c438-40b3-edfb-3fa72d4878c0"
      },
      "execution_count": 5,
      "outputs": [
        {
          "output_type": "execute_result",
          "data": {
            "text/plain": [
              "[0, 1, 1]"
            ]
          },
          "metadata": {},
          "execution_count": 5
        }
      ]
    },
    {
      "cell_type": "markdown",
      "source": [
        "El artículo relacionado a la prueba de que 0, 1, 8 y 144 son los únicos números de Fibonacci que son potencias perfectas se puede encontrar en el siguiente link: https://annals.math.princeton.edu/wp-content/uploads/annals-v163-n3-p05.pdf."
      ],
      "metadata": {
        "id": "4KkYKamzJCow"
      }
    }
  ]
}