{
  "nbformat": 4,
  "nbformat_minor": 0,
  "metadata": {
    "colab": {
      "provenance": [],
      "authorship_tag": "ABX9TyNBZ+rXHxP/ztDXVz+NxNdv"
    },
    "kernelspec": {
      "name": "python3",
      "display_name": "Python 3"
    },
    "language_info": {
      "name": "python"
    }
  },
  "cells": [
    {
      "cell_type": "markdown",
      "source": [
        "#[Subset sum problem](https://www.geeksforgeeks.org/subset-sum-problem-dp-25/)"
      ],
      "metadata": {
        "id": "adnfFYYBRi6W"
      }
    },
    {
      "cell_type": "markdown",
      "source": [
        "En una libreta de jupyter nueva, define una función tal que, dados argumentos: cantidad y rango (dos enteros positivos), regrese un conjunto con cantidad números enteros aleatorios, que pueden estar entre -rango y rango"
      ],
      "metadata": {
        "id": "QiN3zd_oDiFh"
      }
    },
    {
      "cell_type": "code",
      "execution_count": null,
      "metadata": {
        "colab": {
          "base_uri": "https://localhost:8080/"
        },
        "id": "Y8GB6sM1DPfL",
        "outputId": "5870af94-8bb6-44cc-92f0-d63487a6a102"
      },
      "outputs": [
        {
          "output_type": "execute_result",
          "data": {
            "text/plain": [
              "{-14, -13, -7, -3, 21}"
            ]
          },
          "metadata": {},
          "execution_count": 101
        }
      ],
      "source": [
        "from random import randint\n",
        "\n",
        "\n",
        "def numeros_aleatorios(cantidad, rango):\n",
        "    \"\"\"Función que genera un conjunto de tamaño cantidad de números\n",
        "    enteros aleatorios, los cuales están entre -rango y rango\"\"\"\n",
        "    conjunto = {randint(-rango, rango) for i in range(cantidad)}\n",
        "    return conjunto\n",
        "a = numeros_aleatorios(5,50)\n",
        "a"
      ]
    },
    {
      "cell_type": "markdown",
      "source": [
        "Define ahora una función tal que, dado un conjunto de números enteros, regrese un subconjunto del conjunto tal que la suma de los elementos del subconjunto sea 0. Si no existe tal conjunto, la función debe regresar False."
      ],
      "metadata": {
        "id": "kowZheT7JBPz"
      }
    },
    {
      "cell_type": "code",
      "source": [
        "from itertools import combinations\n",
        "\n",
        "\n",
        "def suma_cero(conjunto):\n",
        "    \"\"\"Función que dado un conjunto regresa un subconjunto del conjunto tal que\n",
        "    la suma de los elementos del subconjunto sea 0.\n",
        "    Si no existe tal subconjunto, la función regresar False.\"\"\"\n",
        "    for i in range(1, len(conjunto)+1):\n",
        "        for subconjunto in combinations(conjunto, i):\n",
        "            if sum(set(subconjunto)) == 0:\n",
        "                conjunto = set(subconjunto)\n",
        "                return conjunto\n",
        "    return False\n",
        "suma_cero(a)"
      ],
      "metadata": {
        "colab": {
          "base_uri": "https://localhost:8080/"
        },
        "id": "6HGjAwGUJPky",
        "outputId": "1071b29e-b67f-4f52-acfe-6529f791e8a9"
      },
      "execution_count": null,
      "outputs": [
        {
          "output_type": "execute_result",
          "data": {
            "text/plain": [
              "{-14, -7, 21}"
            ]
          },
          "metadata": {},
          "execution_count": 103
        }
      ]
    }
  ]
}