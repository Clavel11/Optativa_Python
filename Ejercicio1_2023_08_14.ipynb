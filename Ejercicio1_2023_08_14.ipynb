{
  "nbformat": 4,
  "nbformat_minor": 0,
  "metadata": {
    "colab": {
      "provenance": [],
      "authorship_tag": "ABX9TyMNcPAA3ZhAOPmif2hw86ul"
    },
    "kernelspec": {
      "name": "python3",
      "display_name": "Python 3"
    },
    "language_info": {
      "name": "python"
    }
  },
  "cells": [
    {
      "cell_type": "markdown",
      "source": [
        "Exponente n más pequeño tal que (3 + 4j)**n tenga módulo mayor que 100"
      ],
      "metadata": {
        "id": "fFZ_qOdyY_ag"
      }
    },
    {
      "cell_type": "code",
      "execution_count": null,
      "metadata": {
        "colab": {
          "base_uri": "https://localhost:8080/"
        },
        "id": "k644aUomI59m",
        "outputId": "ce4200f4-9a58-41c5-bcf4-e11be10f6f1c"
      },
      "outputs": [
        {
          "output_type": "stream",
          "name": "stdout",
          "text": [
            "Exponente n mas pequeño tal que |(3+4j)^n| > 100:  3\n",
            "|(3+4j)^ 3 | =  125.0\n"
          ]
        }
      ],
      "source": [
        "modulo = abs(3+4j)\n",
        "n=2\n",
        "while modulo < 100:\n",
        "  modulo = abs((3+4j)**n)\n",
        "  n=n+1\n",
        "exponente = n-1\n",
        "print('Exponente n mas pequeño tal que |(3+4j)^n| > 100: ',exponente)\n",
        "print('|(3+4j)^',exponente,'| = ',modulo)"
      ]
    }
  ]
}